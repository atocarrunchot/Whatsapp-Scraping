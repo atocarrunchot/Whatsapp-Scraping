{
 "cells": [
  {
   "cell_type": "code",
   "execution_count": null,
   "metadata": {},
   "outputs": [],
   "source": [
    "from selenium.webdriver import Chrome\n",
    "from selenium.webdriver.common.keys import Keys\n",
    "from selenium.common.exceptions import NoSuchElementException\n",
    "\n",
    "import time\n",
    "\n",
    "URL = \"https://web.whatsapp.com\"\n",
    "\n",
    "browser = Chrome()\n",
    "browser.get( URL )\n",
    "\n",
    "time.sleep(50)\n",
    "invalid_contacts = ['a']\n",
    "\n",
    "while True:\n",
    "    browser.find_element_by_xpath( \".//button[contains(@class, '_1x_c3 _35Ob4 kQJNA _2-5II _338za')]\").click()\n",
    "    time.sleep(20)\n",
    "    messages = browser.find_elements_by_xpath(\"//div[contains(@class,'vW7d1')]\")\n",
    "    print(\"---------------------------------------------------------------\")\n",
    "    for message in messages:        \n",
    "        try:\n",
    "            message_text=\"\"\n",
    "            emojis = []\n",
    "\n",
    "            message_container = message.find_element_by_xpath(\n",
    "                \".//div[@class='copyable-text']\")\n",
    "\n",
    "            message_text = message_container.find_element_by_xpath(\n",
    "                \".//span[contains(@class,'selectable-text invisible-space copyable-text')]\"\n",
    "            ).text\n",
    "            print(\"..................................\")\n",
    "            print(message.get_attribute(\"class\"), \"MSG:\", message_text)\n",
    "\n",
    "            for emoji in message_container.find_elements_by_xpath(\n",
    "                    \".//img[contains(@class,'selectable-text invisible-space copyable-text')]\"\n",
    "            ):\n",
    "                emojis.append(emoji.get_attribute(\"data-plain-text\"))\n",
    "\n",
    "        except NoSuchElementException:  # In case there are only emojis in the message\n",
    "            try:\n",
    "                message_text=\"\"\n",
    "                emojis = []\n",
    "                message_container = message.find_element_by_xpath(\n",
    "                    \".//div[@class='copyable-text']\")\n",
    "\n",
    "                for emoji in message_container.find_elements_by_xpath(\n",
    "                        \".//img[contains(@class,'selectable-text invisible-space copyable-text')]\"\n",
    "                ):\n",
    "                    emojis.append(emoji.get_attribute(\"data-plain-text\"))\n",
    "            except NoSuchElementException:\n",
    "                pass\n",
    "\n",
    "\n",
    "                "
   ]
  }
 ],
 "metadata": {
  "kernelspec": {
   "display_name": "Python 3",
   "language": "python",
   "name": "python3"
  },
  "language_info": {
   "codemirror_mode": {
    "name": "ipython",
    "version": 3
   },
   "file_extension": ".py",
   "mimetype": "text/x-python",
   "name": "python",
   "nbconvert_exporter": "python",
   "pygments_lexer": "ipython3",
   "version": "3.7.6"
  }
 },
 "nbformat": 4,
 "nbformat_minor": 4
}
